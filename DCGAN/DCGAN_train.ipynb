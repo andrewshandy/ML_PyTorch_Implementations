{
  "nbformat": 4,
  "nbformat_minor": 0,
  "metadata": {
    "colab": {
      "name": "DCGAN_train.ipynb",
      "provenance": [],
      "authorship_tag": "ABX9TyPAjlsudmhhu5YkruCEML1D",
      "include_colab_link": true
    },
    "kernelspec": {
      "name": "python3",
      "display_name": "Python 3"
    },
    "language_info": {
      "name": "python"
    },
    "accelerator": "GPU"
  },
  "cells": [
    {
      "cell_type": "markdown",
      "metadata": {
        "id": "view-in-github",
        "colab_type": "text"
      },
      "source": [
        "<a href=\"https://colab.research.google.com/github/andrewshandy/ML_PyTorch_Implementations/blob/main/DCGAN_train.ipynb\" target=\"_parent\"><img src=\"https://colab.research.google.com/assets/colab-badge.svg\" alt=\"Open In Colab\"/></a>"
      ]
    },
    {
      "cell_type": "code",
      "metadata": {
        "colab": {
          "base_uri": "https://localhost:8080/"
        },
        "id": "LlKhbHslJe3K",
        "outputId": "2cb59c15-4ed8-4b76-d8e8-49ae52790b41"
      },
      "source": [
        "from google.colab import drive\n",
        "drive.mount('/content/drive')\n",
        "from google_drive_downloader import GoogleDriveDownloader as gdd\n",
        "dl = \"18UTENzuzvwViI0c9uELD4eN4Z9W0H83b\"\n",
        "gdd.download_file_from_google_drive(file_id=dl,\n",
        "                                    dest_path='./img_align_celeba.zip',\n",
        "                                    unzip=True)\n",
        "!mkdir \"tmp\"\n",
        "! cp -R \"/content/img_align_celeba\" \"/content/tmp/\""
      ],
      "execution_count": null,
      "outputs": [
        {
          "output_type": "stream",
          "text": [
            "Mounted at /content/drive\n",
            "Downloading 18UTENzuzvwViI0c9uELD4eN4Z9W0H83b into ./img_align_celeba.zip... Done.\n",
            "Unzipping...Done.\n"
          ],
          "name": "stdout"
        }
      ]
    },
    {
      "cell_type": "code",
      "metadata": {
        "id": "7kUt698pKBK9"
      },
      "source": [
        "import torch\n",
        "import torch.nn as nn\n",
        "from torchvision import transforms, datasets, utils\n",
        "from matplotlib import pyplot as plt\n",
        "import numpy as np"
      ],
      "execution_count": null,
      "outputs": []
    },
    {
      "cell_type": "code",
      "metadata": {
        "id": "56_NeZLCKDRc"
      },
      "source": [
        "device = torch.device('cuda:0')  # не забудьте включить GPU\n",
        "\n",
        "image_size = 64\n",
        "batch_size = 64\n",
        "latent_size = 100\n",
        "\n",
        "transform=transforms.Compose([\n",
        "    transforms.Resize(image_size),\n",
        "    transforms.CenterCrop(image_size),\n",
        "    transforms.ToTensor(),\n",
        "    transforms.Normalize((0.5, 0.5, 0.5), (0.5, 0.5, 0.5)),\n",
        "    # Normalize здесь приводит значения в промежуток [-1, 1]\n",
        "])\n",
        "\n",
        "dataset = datasets.ImageFolder(root=\"/content/tmp\",\n",
        "                              transform=transform)\n",
        "\n",
        "loader = torch.utils.data.DataLoader(dataset, batch_size=batch_size, shuffle=True)"
      ],
      "execution_count": null,
      "outputs": []
    },
    {
      "cell_type": "code",
      "metadata": {
        "id": "fbMTAZFyNxY-"
      },
      "source": [
        "def plot_img(img):\n",
        "    plt.figure(figsize=(2.5,2.5))\n",
        "    grid = utils.make_grid(img, padding=2, normalize=True).cpu()\n",
        "    plt.imshow(np.transpose(grid, (1,2,0)))\n",
        "\n",
        "\n",
        "    plt.show()"
      ],
      "execution_count": null,
      "outputs": []
    },
    {
      "cell_type": "code",
      "metadata": {
        "id": "6fDD6SXSL9nU"
      },
      "source": [
        "class Discriminator(nn.Module):\n",
        "    def __init__(self, num_channels, base_size):\n",
        "        super(Discriminator, self).__init__()\n",
        "        self.disc = nn.Sequential(\n",
        "            # input: N x channels_img x 64 x 64\n",
        "            nn.Conv2d(num_channels, base_size, kernel_size=4, stride=2, padding=1),\n",
        "            nn.LeakyReLU(0.2),\n",
        "            \n",
        "            nn.Conv2d(base_size, base_size * 2, kernel_size=4, stride=2, padding=1),\n",
        "            nn.BatchNorm2d(base_size * 2),\n",
        "            nn.LeakyReLU(0.2),\n",
        "\n",
        "            nn.Conv2d(base_size * 2, base_size * 4, kernel_size=4, stride=2, padding=1),\n",
        "            nn.BatchNorm2d(base_size * 4),\n",
        "            \n",
        "            nn.Conv2d(base_size * 4, base_size * 8, kernel_size=4, stride=2, padding=1),\n",
        "            nn.BatchNorm2d(base_size * 8),\n",
        "            nn.LeakyReLU(0.2),\n",
        "            \n",
        "            nn.Conv2d(base_size * 8, 1, kernel_size=4, stride=2, padding=0),\n",
        "            nn.Sigmoid(),\n",
        "        )\n",
        "    def forward(self,x):\n",
        "        return self.disc(x)\n",
        "\n",
        "class Generator(nn.Module):\n",
        "    def __init__(self, latent_size, num_channels, base_size):\n",
        "        super(Generator, self).__init__()\n",
        "        self.net = nn.Sequential(\n",
        "            # Input: N x channels_noise x 1 x 1\n",
        "            nn.ConvTranspose2d(latent_size, base_size * 16, kernel_size=4, stride=1, padding=0),\n",
        "            nn.BatchNorm2d(base_size * 16 ),\n",
        "            nn.LeakyReLU(0.2),\n",
        "\n",
        "            # (base_size*16) x 4 x 4\n",
        "            nn.ConvTranspose2d(base_size * 16, base_size * 8, kernel_size=4, stride=2, padding=1),\n",
        "            nn.BatchNorm2d(base_size * 8),\n",
        "            nn.LeakyReLU(0.2),\n",
        "            \n",
        "            # (base_size*4) x 8 x 8\n",
        "            nn.ConvTranspose2d(base_size * 8, base_size * 4, kernel_size=4, stride=2, padding=1),\n",
        "            nn.BatchNorm2d(base_size * 4),\n",
        "            nn.LeakyReLU(0.2),\n",
        "\n",
        "            # (base_size*2) x 16 x 16\n",
        "            nn.ConvTranspose2d(base_size * 4, base_size * 2, kernel_size=4, stride=2, padding=1),\n",
        "            nn.BatchNorm2d(base_size * 2),\n",
        "            nn.LeakyReLU(0.2),\n",
        "\n",
        "            # (base_size) x 32 x 32\n",
        "            nn.ConvTranspose2d(base_size * 2, num_channels, kernel_size=4, stride=2, padding=1),\n",
        "            nn.Tanh(),\n",
        "        )\n",
        "    def forward(self, x):\n",
        "        return self.net(x)"
      ],
      "execution_count": null,
      "outputs": []
    },
    {
      "cell_type": "code",
      "metadata": {
        "id": "tPizDK9VMiM2"
      },
      "source": [
        "num_epochs = 10\n",
        "learning_rate = 0.0002\n",
        "\n",
        "G = Generator(100, 3, image_size).to(device)\n",
        "D = Discriminator(3, image_size).to(device)\n",
        "\n",
        "img_list = []\n",
        "G_losses = []\n",
        "D_losses = []\n",
        "iters = 0\n",
        "\n",
        "optim_G = torch.optim.Adam(G.parameters(), lr=learning_rate)\n",
        "optim_D = torch.optim.Adam(D.parameters(), lr=learning_rate)\n",
        "\n",
        "fixed_noise = torch.randn(1, latent_size, 1, 1).to(device)\n",
        "criterion = nn.BCELoss()\n",
        "\n",
        "\n",
        "for epoch in range(num_epochs):\n",
        "    for (data, _) in loader:\n",
        "\n",
        "        data = data.to(device)\n",
        "        batch_size = data.shape[0]\n",
        "        # 2 Discriminator\n",
        "        D.zero_grad()\n",
        "        \n",
        "        label = torch.FloatTensor(batch_size).uniform_(0.7, 1.2).to(device)\n",
        "        output = D(data).reshape(-1)\n",
        "        \n",
        "        D_loss_real = criterion(output, label)\n",
        "\n",
        "        noise = torch.randn(batch_size, latent_size, 1, 1).to(device)\n",
        "        fake = G(noise)\n",
        "        label = torch.FloatTensor(batch_size).uniform_(0.0, 0.3).to(device)\n",
        "\n",
        "        output = D(fake.detach()).reshape(-1)\n",
        "        D_loss_fake = criterion(output, label)\n",
        "        D_loss = (D_loss_real + D_loss_fake)/2\n",
        "        D_loss.backward()\n",
        "        optim_D.step()\n",
        "\n",
        "\n",
        "        # 2 Generator \n",
        "\n",
        "        G.zero_grad()\n",
        "        label = torch.FloatTensor(batch_size).uniform_(0.7, 1.2).to(device)\n",
        "        output = D(fake).reshape(-1)\n",
        "        \n",
        "        G_loss = criterion(output, label)\n",
        "        G_loss.backward()\n",
        "        optim_G.step()\n",
        "\n",
        "        \n",
        "\n",
        "        if iters % 50 == 0:\n",
        "\n",
        "            print(f'{epoch}/{num_epochs}, {iters/len(loader)}')\n",
        "            print(f'  G loss: {G_loss}')\n",
        "            print(f'  D loss: {D_loss}')\n",
        "            print()\n",
        "            \n",
        "        D_losses.append(D_loss.item())\n",
        "        G_losses.append(G_loss.item())\n",
        "\n",
        "        if iters % 50 == 0:\n",
        "            print(\"current image\")\n",
        "            img = G(fixed_noise)\n",
        "            plot_img(img)\n",
        "\n",
        "        if iters % 50 == 0:\n",
        "            torch.save(D.state_dict(), '/content/drive/My Drive/D.pt')\n",
        "            torch.save(G.state_dict(), '/content/drive/My Drive/G.pt')\n",
        "        iters += 1\n",
        "        \n",
        "        if iters % 2500 == 0:\n",
        "            img = G(fixed_noise)\n",
        "            img_list.append(img)"
      ],
      "execution_count": null,
      "outputs": []
    }
  ]
}
